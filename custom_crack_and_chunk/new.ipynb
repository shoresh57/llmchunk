{
 "cells": [
  {
   "cell_type": "markdown",
   "id": "a9912f24",
   "metadata": {},
   "source": [
    "# How update ACS and embeding container after delet data from source"
   ]
  },
  {
   "cell_type": "code",
   "execution_count": null,
   "id": "fd638203",
   "metadata": {},
   "outputs": [],
   "source": [
    "%%writefile config.json  \n",
    "{  \n",
    "    \"subscription_id\": \"\",  \n",
    "    \"resource_group\": \"\",  \n",
    "    \"workspace_name\": \"\"  \n",
    "}  "
   ]
  },
  {
   "cell_type": "code",
   "execution_count": 2,
   "id": "89d2aefb",
   "metadata": {},
   "outputs": [],
   "source": [
    "from azure.identity import DefaultAzureCredential, InteractiveBrowserCredential  \n",
    "from azure.ai.ml import MLClient  \n",
    "  \n",
    "try:  \n",
    "    credential = DefaultAzureCredential()  \n",
    "    # Check if given credential can get token successfully.  \n",
    "    credential.get_token(\"https://management.azure.com/.default\")  \n",
    "except Exception as ex:  \n",
    "    # Fall back to InteractiveBrowserCredential in case DefaultAzureCredential not work  \n",
    "    credential = InteractiveBrowserCredential()  "
   ]
  },
  {
   "cell_type": "code",
   "execution_count": null,
   "id": "fe0c8b4f",
   "metadata": {},
   "outputs": [],
   "source": [
    "ml_client = MLClient.from_config(credential=credential)  \n",
    "ml_registry = MLClient(credential=ml_client._credential, registry_name=\"azureml\")  "
   ]
  },
  {
   "cell_type": "code",
   "execution_count": 4,
   "id": "240aab2f",
   "metadata": {},
   "outputs": [],
   "source": [
    "\n",
    "  \n",
    "generate_chunkembed_component = ml_registry.components.get(\"llm_rag_crack_and_chunk_and_embed\", label=\"latest\")  \n",
    "update_acs_index_component = ml_registry.components.get(\"llm_rag_update_acs_index\", label=\"latest\") "
   ]
  },
  {
   "cell_type": "code",
   "execution_count": 5,
   "id": "90b5ba6a",
   "metadata": {},
   "outputs": [],
   "source": [
    "from azure.ai.ml import Input, Output  \n",
    "from azure.ai.ml.dsl import pipeline  \n",
    "from azure.ai.ml.entities._job.pipeline._io import PipelineInput  \n",
    "  \n",
    "def use_automatic_compute(component, instance_count=1, instance_type=\"Standard_e4ds_v4\"):  \n",
    "    component.set_resources(  \n",
    "        instance_count=instance_count,  \n",
    "        instance_type=instance_type,  \n",
    "        properties={\"compute_specification\": {\"automatic\": True}},  \n",
    "    )  \n",
    "    return component  \n",
    "  \n",
    "def optional_pipeline_input_provided(input: PipelineInput):  \n",
    "    return input._data is not None  \n",
    "  \n",
    "@pipeline(default_compute=\"serverless\")  \n",
    "def uri_to_acs(  \n",
    "    input_data: Input,  \n",
    "    embeddings_model: str,  \n",
    "    acs_config: str,  \n",
    "    acs_connection_id: str,  \n",
    "    asset_name: str,  \n",
    "    chunk_size: int = 526,  \n",
    "    chunk_overlap: int = 100,  \n",
    "    data_source_glob: str = None,  \n",
    "    aoai_connection_id: str = None,  \n",
    "    embeddings_container: Input = None,  \n",
    "):  \n",
    "    generate_embeddings = generate_chunkembed_component(  \n",
    "        input_data=input_data,  \n",
    "        input_glob=data_source_glob,  \n",
    "        chunk_size=chunk_size,  \n",
    "        use_rcts=True,  \n",
    "        chunk_overlap=chunk_overlap,  \n",
    "        embeddings_connection_id=aoai_connection_id,  \n",
    "        embeddings_container=embeddings_container,  \n",
    "        embeddings_model=embeddings_model,  \n",
    "    )  \n",
    "    use_automatic_compute(generate_embeddings)  \n",
    "    if optional_pipeline_input_provided(aoai_connection_id):  \n",
    "        generate_embeddings.environment_variables[  \n",
    "            \"AZUREML_WORKSPACE_CONNECTION_ID_AOAI\"  \n",
    "        ] = aoai_connection_id  \n",
    "    if optional_pipeline_input_provided(embeddings_container):  \n",
    "        generate_embeddings.outputs.embeddings = Output(  \n",
    "            type=\"uri_folder\", path=f\"{embeddings_container.path}/{{name}}\"  \n",
    "        )  \n",
    "  \n",
    "    update_acs_index = update_acs_index_component(  \n",
    "        embeddings=generate_embeddings.outputs.embeddings,  \n",
    "        acs_config=acs_config,  \n",
    "    )  \n",
    "    use_automatic_compute(update_acs_index)  \n",
    "    if optional_pipeline_input_provided(acs_connection_id):  \n",
    "        update_acs_index.environment_variables[  \n",
    "            \"AZUREML_WORKSPACE_CONNECTION_ID_ACS\"  \n",
    "        ] = acs_connection_id"
   ]
  },
  {
   "cell_type": "code",
   "execution_count": null,
   "id": "0ed3eafb",
   "metadata": {},
   "outputs": [],
   "source": [
    "aoai_connection = ml_client.connections.get(\"\")  \n",
    "acs_connection = ml_client.connections.get(\"\")  "
   ]
  },
  {
   "cell_type": "code",
   "execution_count": 13,
   "id": "f83d126c",
   "metadata": {},
   "outputs": [],
   "source": [
    "import json  \n",
    "from azure.ai.ml import Input  \n",
    "  \n",
    "embeddings_model = \"azure_open_ai://deployment/text-embedding-ada-002/model/text-embedding-ada-002\"  \n",
    "data_source = \"azureml://datastores/workspaceblobstore/paths/shoreshdata\"  \n",
    "asset_name = f\"shoresh_1\"  \n",
    "  \n",
    "pipeline_job = uri_to_acs(  \n",
    "    input_data=Input(type=\"uri_folder\", path=data_source),  \n",
    "    data_source_glob=\"**/*\",  \n",
    "    embeddings_model=embeddings_model,  \n",
    "    aoai_connection_id=aoai_connection.id,  \n",
    "    embeddings_container=Input(  \n",
    "        type=\"uri_folder\",  \n",
    "        path=f\"azureml://datastores/workspaceblobstore/paths/embeddings/{asset_name}\",  \n",
    "    ),  \n",
    "    acs_config=json.dumps(  \n",
    "        {  \n",
    "            \"index_name\": asset_name,  \n",
    "        }  \n",
    "    ),  \n",
    "    acs_connection_id=acs_connection.id,  \n",
    "    asset_name=asset_name,  \n",
    ")  \n",
    "  \n",
    "pipeline_job.display_name = asset_name  \n",
    "pipeline_job.settings.force_rerun = True  \n",
    "  \n",
    "# Properties for Vector Index UI  \n",
    "pipeline_job.properties[\"azureml.mlIndexAssetName\"] = asset_name  \n",
    "pipeline_job.properties[\"azureml.mlIndexAssetKind\"] = \"acs\"  \n",
    "pipeline_job.properties[\"azureml.mlIndexAssetSource\"] = \"AzureML Data\"  "
   ]
  },
  {
   "cell_type": "code",
   "execution_count": null,
   "id": "6923eb70",
   "metadata": {},
   "outputs": [],
   "source": [
    "print(f\"Submitting pipeline job to experiment: {asset_name}\")  \n",
    "running_pipeline_job = ml_client.jobs.create_or_update(pipeline_job, experiment_name=asset_name)  \n",
    "print(f\"Submitted run, url: {running_pipeline_job.studio_url}\")  "
   ]
  },
  {
   "cell_type": "markdown",
   "id": "6756c113",
   "metadata": {},
   "source": [
    "# How create and register custome components\n"
   ]
  },
  {
   "cell_type": "markdown",
   "id": "9a3d56a5",
   "metadata": {},
   "source": [
    "### 1- Create a registery\n",
    "\n",
    "\n",
    "https://learn.microsoft.com/en-us/azure/machine-learning/how-to-manage-registries?view=azureml-api-2&tabs=studio#create-a-registry\n",
    "\n",
    "https://learn.microsoft.com/en-us/azure/machine-learning/how-to-share-models-pipelines-across-workspaces-with-registries?view=azureml-api-2&tabs=cli\n",
    "\n",
    "https://github.com/Azure/azureml-examples/tree/main/sdk/python/jobs/pipelines/2e_image_classification_keras_minist_convnet\n"
   ]
  },
  {
   "cell_type": "code",
   "execution_count": 3,
   "id": "fe7b2565",
   "metadata": {},
   "outputs": [],
   "source": [
    "from azure.identity import DefaultAzureCredential, InteractiveBrowserCredential  \n",
    "from azure.ai.ml import MLClient  \n",
    "  \n",
    "try:  \n",
    "    credential = DefaultAzureCredential()  \n",
    "    # Check if given credential can get token successfully.  \n",
    "    credential.get_token(\"https://management.azure.com/.default\")  \n",
    "except Exception as ex:  \n",
    "    # Fall back to InteractiveBrowserCredential in case DefaultAzureCredential not work  \n",
    "    credential = InteractiveBrowserCredential()  "
   ]
  },
  {
   "cell_type": "code",
   "execution_count": null,
   "id": "30239536",
   "metadata": {},
   "outputs": [],
   "source": [
    "\n",
    "\n",
    "ml_client_workspace = MLClient( credential=credential,\n",
    "    subscription_id = \"\",\n",
    "    resource_group_name = \"\",\n",
    "    workspace_name = \"\")\n",
    "print(ml_client_workspace)\n",
    "\n"
   ]
  },
  {
   "cell_type": "code",
   "execution_count": null,
   "id": "cd44f30f",
   "metadata": {},
   "outputs": [],
   "source": [
    "ml_client_registry = MLClient(credential=credential,\n",
    "                        registry_name=\"shoresh\",\n",
    "                        registry_location=\"swedencentral\")\n",
    "print(ml_client_registry)"
   ]
  },
  {
   "cell_type": "markdown",
   "id": "8d347a95",
   "metadata": {},
   "source": [
    "### How create environment\n",
    "https://learn.microsoft.com/en-us/azure/machine-learning/how-to-manage-environments-v2?view=azureml-api-2&tabs=python\n",
    "\n",
    "https://learn.microsoft.com/en-us/azure/machine-learning/how-to-share-models-pipelines-across-workspaces-with-registries?view=azureml-api-2&tabs=python"
   ]
  },
  {
   "cell_type": "code",
   "execution_count": 4,
   "id": "dd586a79",
   "metadata": {},
   "outputs": [],
   "source": [
    "from pathlib import Path\n",
    "from azure.ai.ml import Input, Output, command\n",
    "from azure.ai.ml.entities import BuildContext, Environment"
   ]
  },
  {
   "cell_type": "code",
   "execution_count": null,
   "id": "6ee5c879",
   "metadata": {},
   "outputs": [],
   "source": [
    "llm_rag_embeddings_doc_intel_environment = Environment(\n",
    "    name=\"shoresh_doc_intel\",\n",
    "    description=\"AzureML RAGs base crack_and_chunk environment with azure-ai-formrecognizer installed.\",\n",
    "    version=str(1),\n",
    "    build=BuildContext(path=Path.cwd() / \"doc_intel_env\"),\n",
    ")\n",
    "\n",
    "ml_client_registry.environments.create_or_update(llm_rag_embeddings_doc_intel_environment)"
   ]
  },
  {
   "cell_type": "code",
   "execution_count": null,
   "id": "6566ebd0",
   "metadata": {},
   "outputs": [],
   "source": [
    "ml_client_registry.environments.get(\"shoresh_doc_intel\",version=1)"
   ]
  },
  {
   "cell_type": "markdown",
   "id": "1a88a7ea",
   "metadata": {},
   "source": [
    "### How create component\n",
    "\n",
    "https://learn.microsoft.com/en-us/azure/machine-learning/how-to-create-component-pipelines-cli?view=azureml-api-2#understand-the-component-definition-yaml\n",
    "\n",
    "https://learn.microsoft.com/en-us/azure/machine-learning/how-to-create-component-pipeline-python?view=azureml-api-2\n",
    "\n",
    "https://learn.microsoft.com/en-us/azure/machine-learning/how-to-create-component-pipeline-python?view=azureml-api-2\n",
    "\n"
   ]
  },
  {
   "cell_type": "code",
   "execution_count": 7,
   "id": "98f958be",
   "metadata": {},
   "outputs": [],
   "source": [
    "from azure.ai.ml import MLClient, load_component  \n",
    "from azure.identity import DefaultAzureCredential \n",
    "\n",
    "component_path = \"./crack_and_chunk_with_doc_intel/component.yml\"  \n"
   ]
  },
  {
   "cell_type": "code",
   "execution_count": null,
   "id": "f9292260",
   "metadata": {},
   "outputs": [],
   "source": [
    "print(\"Loading component...\")  \n",
    "component = load_component(source=component_path)  \n",
    "print(\"Component loaded successfully.\")  \n",
    "  \n",
    "print(\"Registering component...\")  \n",
    "try:  \n",
    "    registered_component = ml_client_registry.components.create_or_update(component)  \n",
    "    print(f\"Component registered: {registered_component.name} with version {registered_component.version}\")  \n",
    "except HttpResponseError as e:  \n",
    "    print(f\"HttpResponseError: {e}\")  \n"
   ]
  },
  {
   "cell_type": "code",
   "execution_count": null,
   "id": "951af774",
   "metadata": {},
   "outputs": [],
   "source": [
    "components = ml_client_registry.components.list()  \n",
    "for component in components:  \n",
    "    print(f\"Component name: {component.name}, version: {component.version}\")  "
   ]
  },
  {
   "cell_type": "code",
   "execution_count": null,
   "id": "4f0ee6d8",
   "metadata": {},
   "outputs": [],
   "source": [
    "components = ml_client_registry.environments.list()  \n",
    "for component in components:  \n",
    "    print(f\"Component name: {component.name}, version: {component.version}\")  "
   ]
  },
  {
   "cell_type": "code",
   "execution_count": null,
   "id": "2ef435bc",
   "metadata": {},
   "outputs": [],
   "source": []
  }
 ],
 "metadata": {
  "kernelspec": {
   "display_name": "Python 3.10 - SDK v2",
   "language": "python",
   "name": "python310-sdkv2"
  },
  "language_info": {
   "codemirror_mode": {
    "name": "ipython",
    "version": 3
   },
   "file_extension": ".py",
   "mimetype": "text/x-python",
   "name": "python",
   "nbconvert_exporter": "python",
   "pygments_lexer": "ipython3",
   "version": "3.10.14"
  }
 },
 "nbformat": 4,
 "nbformat_minor": 5
}
